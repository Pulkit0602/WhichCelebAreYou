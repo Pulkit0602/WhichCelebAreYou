{
 "cells": [
  {
   "cell_type": "markdown",
   "metadata": {
    "id": "ugyE_nYUUEza"
   },
   "source": [
    "## Work Flow For Prediction:\n",
    "1. Read the sample images\n",
    "2. extract the face out of it\n",
    "3. feed it to extract features\n",
    "4. find out the cosine similarity\n",
    "5. get the highest maych feature image and name"
   ]
  },
  {
   "cell_type": "code",
   "execution_count": 1,
   "metadata": {
    "executionInfo": {
     "elapsed": 55,
     "status": "aborted",
     "timestamp": 1659764422437,
     "user": {
      "displayName": "Pulkit Kapoor",
      "userId": "12083079956211482827"
     },
     "user_tz": -330
    },
    "id": "r0h1XB6bUiTg"
   },
   "outputs": [],
   "source": [
    "from tensorflow.keras.preprocessing import image\n",
    "from keras_vggface.utils import preprocess_input\n",
    "from keras_vggface.vggface import VGGFace\n",
    "import numpy as np\n",
    "from mtcnn import MTCNN #Face detection\n",
    "from PIL import Image # image Preprocess\n",
    "import cv2 #image read \n",
    "import pickle\n",
    "\n"
   ]
  },
  {
   "cell_type": "code",
   "execution_count": 2,
   "metadata": {
    "executionInfo": {
     "elapsed": 55,
     "status": "aborted",
     "timestamp": 1659764422438,
     "user": {
      "displayName": "Pulkit Kapoor",
      "userId": "12083079956211482827"
     },
     "user_tz": -330
    },
    "id": "QvuPOZvMVAQB"
   },
   "outputs": [],
   "source": [
    "features = pickle.load(open(r\"C:\\Users\\Dell\\OneDrive\\Desktop\\Resume\\celeb\\WhichCelebAreYou\\features.pkl\" , \"rb\"))\n",
    "features = np.array(features)"
   ]
  },
  {
   "cell_type": "code",
   "execution_count": 3,
   "metadata": {
    "executionInfo": {
     "elapsed": 56,
     "status": "aborted",
     "timestamp": 1659764422440,
     "user": {
      "displayName": "Pulkit Kapoor",
      "userId": "12083079956211482827"
     },
     "user_tz": -330
    },
    "id": "QYbu76tiVhXB"
   },
   "outputs": [],
   "source": [
    "filename = pickle.load(open(r\"C:\\Users\\Dell\\OneDrive\\Desktop\\Resume\\celeb\\WhichCelebAreYou\\filename.pkl\" , \"rb\"))"
   ]
  },
  {
   "cell_type": "code",
   "execution_count": 4,
   "metadata": {
    "executionInfo": {
     "elapsed": 58,
     "status": "aborted",
     "timestamp": 1659764422442,
     "user": {
      "displayName": "Pulkit Kapoor",
      "userId": "12083079956211482827"
     },
     "user_tz": -330
    },
    "id": "4aCPIasOWUWp"
   },
   "outputs": [],
   "source": [
    "model = VGGFace(model = \"resnet50\" , include_top = False , input_shape=(224,224,3) , pooling = \"avg\")"
   ]
  },
  {
   "cell_type": "code",
   "execution_count": 5,
   "metadata": {
    "executionInfo": {
     "elapsed": 58,
     "status": "aborted",
     "timestamp": 1659764422443,
     "user": {
      "displayName": "Pulkit Kapoor",
      "userId": "12083079956211482827"
     },
     "user_tz": -330
    },
    "id": "q7BbOUvfWY5Q"
   },
   "outputs": [],
   "source": [
    "detector = MTCNN() # for face detection"
   ]
  },
  {
   "cell_type": "code",
   "execution_count": 6,
   "metadata": {
    "executionInfo": {
     "elapsed": 59,
     "status": "aborted",
     "timestamp": 1659764422445,
     "user": {
      "displayName": "Pulkit Kapoor",
      "userId": "12083079956211482827"
     },
     "user_tz": -330
    },
    "id": "ukKu9c8iXHnX"
   },
   "outputs": [],
   "source": [
    "def feature_test(path,model):\n",
    "  print(path)\n",
    "  sample_img = cv2.imread(path)     #reading image in np.array\n",
    "  #print(sample_img)\n",
    "  results = detector.detect_faces(sample_img)  #MTCNN used to detect the coordiantes of the face\n",
    "  x,y,width,height =  results[0][\"box\"]         # gives the position of face \n",
    "  face = sample_img[y:y+height , x:x+height]    # crop the pixel to the onlt to have face\n",
    "  image = Image.fromarray(face)                 # convert pixel to img\n",
    "  image = image.resize((224,224))               # resize to enter into CNN\n",
    "  face_array = np.array(image)                  # getting back to array \n",
    "  face_array  = face_array.astype(\"float32\")    # converting values to float\n",
    "  expanded_img = np.expand_dims(face_array,axis = 0)    # having desired format (1,224,224,3)\n",
    "  #print(expanded_img.shape)                        \n",
    "  preprocess_img = preprocess_input(expanded_img)       \n",
    "  result = model.predict(preprocess_img).flatten()      #Extracting Features\n",
    "\n",
    "  return result"
   ]
  },
  {
   "cell_type": "code",
   "execution_count": 20,
   "metadata": {
    "executionInfo": {
     "elapsed": 63,
     "status": "aborted",
     "timestamp": 1659764422448,
     "user": {
      "displayName": "Pulkit Kapoor",
      "userId": "12083079956211482827"
     },
     "user_tz": -330
    },
    "id": "fCuAP5vE_ruo"
   },
   "outputs": [
    {
     "name": "stdout",
     "output_type": "stream",
     "text": [
      "C:\\Users\\Dell\\OneDrive\\Desktop\\Resume\\celeb\\WhichCelebAreYou\\Bollywood_celeb_face_localized\\Sample\\Capture.JPG\n"
     ]
    },
    {
     "data": {
      "text/plain": [
       "(2048,)"
      ]
     },
     "execution_count": 20,
     "metadata": {},
     "output_type": "execute_result"
    }
   ],
   "source": [
    "result = feature_test(r\"C:\\Users\\Dell\\OneDrive\\Desktop\\Resume\\celeb\\WhichCelebAreYou\\Bollywood_celeb_face_localized\\Sample\\Capture.JPG\",model)\n",
    "result.shape\n"
   ]
  },
  {
   "cell_type": "markdown",
   "metadata": {
    "id": "czJDSvhABmwS"
   },
   "source": [
    "## CALCULATING COSINE SIMILARITY "
   ]
  },
  {
   "cell_type": "code",
   "execution_count": 21,
   "metadata": {
    "executionInfo": {
     "elapsed": 66,
     "status": "aborted",
     "timestamp": 1659764422453,
     "user": {
      "displayName": "Pulkit Kapoor",
      "userId": "12083079956211482827"
     },
     "user_tz": -330
    },
    "id": "tOJVH9qaBsQv"
   },
   "outputs": [],
   "source": [
    "from sklearn.metrics.pairwise import cosine_similarity"
   ]
  },
  {
   "cell_type": "code",
   "execution_count": 22,
   "metadata": {
    "executionInfo": {
     "elapsed": 67,
     "status": "aborted",
     "timestamp": 1659764422455,
     "user": {
      "displayName": "Pulkit Kapoor",
      "userId": "12083079956211482827"
     },
     "user_tz": -330
    },
    "id": "zuWtEpMABtJy"
   },
   "outputs": [],
   "source": [
    "similarity = []\n",
    "for feature in features:\n",
    "  similarity.append(list(cosine_similarity(result.reshape(1,-1) , feature.reshape(1,-1)))[0][0])\n",
    "similarity_score = sorted(list(enumerate(similarity)) , reverse=True , key = lambda x: x[1])[0][0]\n",
    "\n"
   ]
  },
  {
   "cell_type": "code",
   "execution_count": 23,
   "metadata": {
    "executionInfo": {
     "elapsed": 68,
     "status": "aborted",
     "timestamp": 1659764422456,
     "user": {
      "displayName": "Pulkit Kapoor",
      "userId": "12083079956211482827"
     },
     "user_tz": -330
    },
    "id": "ScxbUl20EAEt"
   },
   "outputs": [
    {
     "data": {
      "text/plain": [
       "8483"
      ]
     },
     "execution_count": 23,
     "metadata": {},
     "output_type": "execute_result"
    }
   ],
   "source": [
    "similarity_score"
   ]
  },
  {
   "cell_type": "code",
   "execution_count": 44,
   "metadata": {},
   "outputs": [
    {
     "data": {
      "text/plain": [
       "-1"
      ]
     },
     "execution_count": 44,
     "metadata": {},
     "output_type": "execute_result"
    }
   ],
   "source": [
    "import os\n",
    "path = filename[similarity_score]\n",
    "final_path = os.path.join(r\"C:/Users/Dell/OneDrive/Desktop/Resume/celeb\\WhichCelebAreYou\" , path)\n",
    "temp = cv2.imread(r\"C:\\Users\\Dell\\OneDrive\\Desktop\\Resume\\celeb\\WhichCelebAreYou\\content\\bollywood_celeb_faces_0\\Anushka_Shetty\\Anushka_Shetty.25.jpg\")\n",
    "cv2.imshow(\"img\",temp)\n",
    "cv2.waitKey(2000)\n",
    "\n"
   ]
  }
 ],
 "metadata": {
  "colab": {
   "authorship_tag": "ABX9TyMbVfqeAFjlVZVpP3UUhAD/",
   "name": "WhichCeleb_Test.ipynb",
   "provenance": []
  },
  "kernelspec": {
   "display_name": "Python 3.8.0 ('.virtenv': venv)",
   "language": "python",
   "name": "python3"
  },
  "language_info": {
   "codemirror_mode": {
    "name": "ipython",
    "version": 3
   },
   "file_extension": ".py",
   "mimetype": "text/x-python",
   "name": "python",
   "nbconvert_exporter": "python",
   "pygments_lexer": "ipython3",
   "version": "3.8.0"
  },
  "vscode": {
   "interpreter": {
    "hash": "a41249b7c04f4d88ed733c8b020cd20a976bacc6920054a400092190205b9616"
   }
  }
 },
 "nbformat": 4,
 "nbformat_minor": 1
}
